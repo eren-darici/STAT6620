{
  "nbformat": 4,
  "nbformat_minor": 0,
  "metadata": {
    "colab": {
      "provenance": [],
      "authorship_tag": "ABX9TyPyfBQNyybzQ+PZrIO9PTQh",
      "include_colab_link": true
    },
    "kernelspec": {
      "name": "python3",
      "display_name": "Python 3"
    },
    "language_info": {
      "name": "python"
    }
  },
  "cells": [
    {
      "cell_type": "markdown",
      "metadata": {
        "id": "view-in-github",
        "colab_type": "text"
      },
      "source": [
        "<a href=\"https://colab.research.google.com/github/eren-darici/STAT6620/blob/main/6620_HW3.ipynb\" target=\"_parent\"><img src=\"https://colab.research.google.com/assets/colab-badge.svg\" alt=\"Open In Colab\"/></a>"
      ]
    },
    {
      "cell_type": "markdown",
      "source": [
        "$$\n",
        "\\begin{array}{c}\n",
        "\\text{Homework 3} \\\\\n",
        "\\text{Eren Darici} \\\\\n",
        "\\text{STAT 6620} \\\\\n",
        "\\text{Date: 9/17/2025}\n",
        "\\end{array}\n",
        "$$\n"
      ],
      "metadata": {
        "id": "6c3U0IjNHhwA"
      }
    },
    {
      "cell_type": "code",
      "execution_count": 3,
      "metadata": {
        "id": "k3p2_a6e38z8"
      },
      "outputs": [],
      "source": [
        "import torch\n",
        "import pandas as pd"
      ]
    },
    {
      "cell_type": "code",
      "source": [
        "# Read the lungfunction.txt file, delimited by space or tab, with specified column names\n",
        "df = pd.read_csv('lungfunction.txt', sep='\\s+', names=[\"age\", \"FEV\", \"ht\", \"sex\", \"smoke\"])\n",
        "\n",
        "# Display the first few rows of the DataFrame\n",
        "df.count()"
      ],
      "metadata": {
        "colab": {
          "base_uri": "https://localhost:8080/",
          "height": 310
        },
        "id": "qMA9Yw753-9v",
        "outputId": "30926288-65d6-4f32-d3ef-31733a10371a"
      },
      "execution_count": 4,
      "outputs": [
        {
          "output_type": "stream",
          "name": "stderr",
          "text": [
            "<>:2: SyntaxWarning: invalid escape sequence '\\s'\n",
            "<>:2: SyntaxWarning: invalid escape sequence '\\s'\n",
            "/tmp/ipython-input-1764796367.py:2: SyntaxWarning: invalid escape sequence '\\s'\n",
            "  df = pd.read_csv('lungfunction.txt', sep='\\s+', names=[\"age\", \"FEV\", \"ht\", \"sex\", \"smoke\"])\n"
          ]
        },
        {
          "output_type": "execute_result",
          "data": {
            "text/plain": [
              "age      654\n",
              "FEV      654\n",
              "ht       654\n",
              "sex      654\n",
              "smoke    654\n",
              "dtype: int64"
            ],
            "text/html": [
              "<div>\n",
              "<style scoped>\n",
              "    .dataframe tbody tr th:only-of-type {\n",
              "        vertical-align: middle;\n",
              "    }\n",
              "\n",
              "    .dataframe tbody tr th {\n",
              "        vertical-align: top;\n",
              "    }\n",
              "\n",
              "    .dataframe thead th {\n",
              "        text-align: right;\n",
              "    }\n",
              "</style>\n",
              "<table border=\"1\" class=\"dataframe\">\n",
              "  <thead>\n",
              "    <tr style=\"text-align: right;\">\n",
              "      <th></th>\n",
              "      <th>0</th>\n",
              "    </tr>\n",
              "  </thead>\n",
              "  <tbody>\n",
              "    <tr>\n",
              "      <th>age</th>\n",
              "      <td>654</td>\n",
              "    </tr>\n",
              "    <tr>\n",
              "      <th>FEV</th>\n",
              "      <td>654</td>\n",
              "    </tr>\n",
              "    <tr>\n",
              "      <th>ht</th>\n",
              "      <td>654</td>\n",
              "    </tr>\n",
              "    <tr>\n",
              "      <th>sex</th>\n",
              "      <td>654</td>\n",
              "    </tr>\n",
              "    <tr>\n",
              "      <th>smoke</th>\n",
              "      <td>654</td>\n",
              "    </tr>\n",
              "  </tbody>\n",
              "</table>\n",
              "</div><br><label><b>dtype:</b> int64</label>"
            ]
          },
          "metadata": {},
          "execution_count": 4
        }
      ]
    },
    {
      "cell_type": "code",
      "source": [
        "# X = age, Y = FEV\n",
        "X = torch.tensor(df.age.values, dtype=torch.float32).view(-1, 1)\n",
        "X = torch.cat((torch.ones_like(X), X), dim=1)\n",
        "Y = torch.tensor(df.FEV.values, dtype=torch.float32).view(-1, 1)"
      ],
      "metadata": {
        "id": "wpWKjve2433I"
      },
      "execution_count": 11,
      "outputs": []
    },
    {
      "cell_type": "markdown",
      "source": [
        "# Part a.\n",
        "$$\n",
        "  X^{T}X = X^T \\, X\n",
        "$$"
      ],
      "metadata": {
        "id": "5fQlWmeKBH9F"
      }
    },
    {
      "cell_type": "code",
      "metadata": {
        "colab": {
          "base_uri": "https://localhost:8080/",
          "height": 69
        },
        "id": "e6042203",
        "outputId": "358ae4e4-3ad7-42db-bb75-c84226d1edb6"
      },
      "source": [
        "# Part a.\n",
        "XtX = X.T @ X\n",
        "\n",
        "# Display the result\n",
        "print(\"X'X:\")\n",
        "display(XtX)"
      ],
      "execution_count": 14,
      "outputs": [
        {
          "output_type": "stream",
          "name": "stdout",
          "text": [
            "X'X:\n"
          ]
        },
        {
          "output_type": "display_data",
          "data": {
            "text/plain": [
              "tensor([[  654.,  6495.],\n",
              "        [ 6495., 70201.]])"
            ]
          },
          "metadata": {}
        }
      ]
    },
    {
      "cell_type": "markdown",
      "source": [
        "$$\n",
        "X^TX = \\begin{bmatrix}\n",
        "  654. &&  6495.\\\\\n",
        "  6495. && 70201.\n",
        "\\end{bmatrix}\n",
        "$$"
      ],
      "metadata": {
        "id": "JjGdtLZMBsll"
      }
    },
    {
      "cell_type": "markdown",
      "source": [
        "# Part b.\n",
        "$$\n",
        "X^TXb=X^T \\, Y \\\\\n",
        "b=(X^TX)^{-1}X^TY\n",
        "$$"
      ],
      "metadata": {
        "id": "mNm8XxpdCFCI"
      }
    },
    {
      "cell_type": "code",
      "source": [
        "# Part b.\n",
        "# XtXb = XtY ->  b = (XtX)^-1 @ XtY\n",
        "XtY = X.T @ Y\n",
        "\n",
        "# Display the result\n",
        "print(\"X'Y:\")\n",
        "display(XtY)\n",
        "\n",
        "# b = (XtX)^-1 @ XtY\n",
        "b = torch.linalg.inv(XtX) @ XtY\n",
        "\n",
        "# Display the result\n",
        "print(\"b:\")\n",
        "display(b)"
      ],
      "metadata": {
        "colab": {
          "base_uri": "https://localhost:8080/",
          "height": 121
        },
        "id": "tkruHAKz6ALE",
        "outputId": "7eab1985-a5ab-42b2-a5b8-28622f2caac3"
      },
      "execution_count": 46,
      "outputs": [
        {
          "output_type": "stream",
          "name": "stdout",
          "text": [
            "X'Y:\n"
          ]
        },
        {
          "output_type": "display_data",
          "data": {
            "text/plain": [
              "tensor([[ 1724.4535],\n",
              "        [18391.0488]])"
            ]
          },
          "metadata": {}
        },
        {
          "output_type": "stream",
          "name": "stdout",
          "text": [
            "b:\n"
          ]
        },
        {
          "output_type": "display_data",
          "data": {
            "text/plain": [
              "tensor([[0.4316],\n",
              "        [0.2220]])"
            ]
          },
          "metadata": {}
        }
      ]
    },
    {
      "cell_type": "markdown",
      "source": [
        "$$\n",
        "X^TY =\n",
        "\\begin{bmatrix}\n",
        "1724.4535\\\\\n",
        "18391.0488\n",
        "\\end{bmatrix}\n",
        "\\\\\n",
        "\\\\\n",
        "b =\\begin{bmatrix}\n",
        "b_0\\\\\n",
        "b_1\n",
        "\\end{bmatrix} = \\begin{bmatrix}\n",
        "0.4316\\\\\n",
        "0.2220\n",
        "\\end{bmatrix}\n",
        "$$"
      ],
      "metadata": {
        "id": "2tAPexveCrKH"
      }
    },
    {
      "cell_type": "markdown",
      "source": [
        "# Part c.\n",
        "$$\n",
        "\\hat{Y} = Xb \\\\\n",
        "e = Y - \\hat{Y} \\\\\n",
        "SSE = e^Te \\\\\n",
        "MSE = \\frac{e^Te}{n-p} \\\\\n",
        "$$\n",
        "where $n = 654$ observations and $p = 2$"
      ],
      "metadata": {
        "id": "TRuM76iPDSQi"
      }
    },
    {
      "cell_type": "code",
      "source": [
        "# Part c.\n",
        "Yhat = X @ b\n",
        "e = Y - Yhat\n",
        "\n",
        "SSE = (e.T @ e).item()\n",
        "print(\"SSE:\")\n",
        "display(SSE)\n",
        "\n",
        "n = len(Y)\n",
        "p = X.shape[1]\n",
        "\n",
        "MSE = SSE / (n-p)\n",
        "print(\"MSE:\")\n",
        "display(MSE)"
      ],
      "metadata": {
        "colab": {
          "base_uri": "https://localhost:8080/",
          "height": 86
        },
        "id": "UXmQrtnm9BzF",
        "outputId": "d70249ed-f554-4e00-c86f-4e725365c54e"
      },
      "execution_count": 51,
      "outputs": [
        {
          "output_type": "stream",
          "name": "stdout",
          "text": [
            "SSE:\n"
          ]
        },
        {
          "output_type": "display_data",
          "data": {
            "text/plain": [
              "210.00064086914062"
            ]
          },
          "metadata": {}
        },
        {
          "output_type": "stream",
          "name": "stdout",
          "text": [
            "MSE:\n"
          ]
        },
        {
          "output_type": "display_data",
          "data": {
            "text/plain": [
              "0.32208687249868195"
            ]
          },
          "metadata": {}
        }
      ]
    },
    {
      "cell_type": "markdown",
      "source": [
        "$$\n",
        "SSE = 210.00064086914062 \\\\\n",
        "MSE = 0.32208687249868195\n",
        "$$"
      ],
      "metadata": {
        "id": "F1d0WO1UFDEA"
      }
    },
    {
      "cell_type": "markdown",
      "source": [
        "# Part (d)\n",
        "$$\n",
        "\\text{Cov}(\\hat{B}) = \\text{MSE} \\cdot (X^T X)^{-1} \\\\\n",
        "s(b_1) = \\sqrt{\\text{Cov}(\\hat{B})_{1,1}}\n",
        "$$\n"
      ],
      "metadata": {
        "id": "vKrqN2v0FTnQ"
      }
    },
    {
      "cell_type": "code",
      "source": [
        "# Part d.\n",
        "cov_B = MSE * torch.linalg.inv(XtX)\n",
        "print(\"Cov(B):\")\n",
        "display(cov_B)\n",
        "sb1 = torch.sqrt(cov_B[1,1])\n",
        "print(\"sb1:\")\n",
        "display(sb1)"
      ],
      "metadata": {
        "colab": {
          "base_uri": "https://localhost:8080/",
          "height": 104
        },
        "id": "rS-P9dXh-Nbl",
        "outputId": "e4b2c744-14bf-413e-fd92-1a898dff8f86"
      },
      "execution_count": 53,
      "outputs": [
        {
          "output_type": "stream",
          "name": "stdout",
          "text": [
            "Cov(B):\n"
          ]
        },
        {
          "output_type": "display_data",
          "data": {
            "text/plain": [
              "tensor([[ 6.0677e-03, -5.6138e-04],\n",
              "        [-5.6138e-04,  5.6527e-05]])"
            ]
          },
          "metadata": {}
        },
        {
          "output_type": "stream",
          "name": "stdout",
          "text": [
            "sb1:\n"
          ]
        },
        {
          "output_type": "display_data",
          "data": {
            "text/plain": [
              "tensor(0.0075)"
            ]
          },
          "metadata": {}
        }
      ]
    },
    {
      "cell_type": "markdown",
      "source": [
        "$$\n",
        "\\text{Cov}(\\hat{B}) = \\begin{bmatrix}\n",
        "6.0677e-03 &-5.6138e-04\\\\\n",
        "        -5.6138e-04 & 5.6527e-05\\\\\n",
        "\\end{bmatrix} \\\\\n",
        "s(b_1) = \\sqrt{\\text{Cov}(\\hat{B})_{1,1}} = \\sqrt{(6.0677e-03} \\approx 0.0075\n",
        "$$\n"
      ],
      "metadata": {
        "id": "a6uCIyzdFdn6"
      }
    },
    {
      "cell_type": "code",
      "source": [],
      "metadata": {
        "id": "2y0J5X-sAtSR"
      },
      "execution_count": null,
      "outputs": []
    }
  ]
}